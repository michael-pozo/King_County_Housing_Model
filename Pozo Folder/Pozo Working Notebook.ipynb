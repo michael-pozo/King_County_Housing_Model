{
 "cells": [
  {
   "cell_type": "markdown",
   "id": "b898657e",
   "metadata": {},
   "source": [
    "# Data Cleaning "
   ]
  },
  {
   "cell_type": "code",
   "execution_count": 2,
   "id": "a3ba39cf",
   "metadata": {},
   "outputs": [],
   "source": [
    "import pandas as pd\n",
    "df = pd.read_csv('data-pozo/kc_house_data.csv')"
   ]
  },
  {
   "cell_type": "code",
   "execution_count": 3,
   "id": "9117a665",
   "metadata": {},
   "outputs": [],
   "source": [
    "#drop rows with null values\n",
    "df.dropna(subset = ['heat_source', 'sewer_system'], inplace = True)"
   ]
  },
  {
   "cell_type": "code",
   "execution_count": 4,
   "id": "bae98854",
   "metadata": {},
   "outputs": [],
   "source": [
    "#change date to datetime and split out sale year and month\n",
    "df['date'] = pd.to_datetime(df['date'])\n",
    "df['sale_month'] = df['date'].dt.month.astype(int)\n",
    "df['sale_year'] = df['date'].dt.year.astype(int)"
   ]
  },
  {
   "cell_type": "code",
   "execution_count": 5,
   "id": "393de23b",
   "metadata": {},
   "outputs": [
    {
     "name": "stdout",
     "output_type": "stream",
     "text": [
      "<class 'pandas.core.frame.DataFrame'>\n",
      "Int64Index: 30111 entries, 0 to 30154\n",
      "Data columns (total 27 columns):\n",
      " #   Column         Non-Null Count  Dtype         \n",
      "---  ------         --------------  -----         \n",
      " 0   id             30111 non-null  int64         \n",
      " 1   date           30111 non-null  datetime64[ns]\n",
      " 2   price          30111 non-null  float64       \n",
      " 3   bedrooms       30111 non-null  int64         \n",
      " 4   bathrooms      30111 non-null  float64       \n",
      " 5   sqft_living    30111 non-null  int64         \n",
      " 6   sqft_lot       30111 non-null  int64         \n",
      " 7   floors         30111 non-null  float64       \n",
      " 8   waterfront     30111 non-null  object        \n",
      " 9   greenbelt      30111 non-null  object        \n",
      " 10  nuisance       30111 non-null  object        \n",
      " 11  view           30111 non-null  object        \n",
      " 12  condition      30111 non-null  object        \n",
      " 13  grade          30111 non-null  object        \n",
      " 14  heat_source    30111 non-null  object        \n",
      " 15  sewer_system   30111 non-null  object        \n",
      " 16  sqft_above     30111 non-null  int64         \n",
      " 17  sqft_basement  30111 non-null  int64         \n",
      " 18  sqft_garage    30111 non-null  int64         \n",
      " 19  sqft_patio     30111 non-null  int64         \n",
      " 20  yr_built       30111 non-null  int64         \n",
      " 21  yr_renovated   30111 non-null  int64         \n",
      " 22  address        30111 non-null  object        \n",
      " 23  lat            30111 non-null  float64       \n",
      " 24  long           30111 non-null  float64       \n",
      " 25  sale_month     30111 non-null  int64         \n",
      " 26  sale_year      30111 non-null  int64         \n",
      "dtypes: datetime64[ns](1), float64(5), int64(12), object(9)\n",
      "memory usage: 6.4+ MB\n"
     ]
    }
   ],
   "source": [
    "df.info()"
   ]
  },
  {
   "cell_type": "code",
   "execution_count": 6,
   "id": "03393c1c",
   "metadata": {},
   "outputs": [
    {
     "data": {
      "text/plain": [
       "0       28743\n",
       "2021       69\n",
       "2006       49\n",
       "2018       44\n",
       "1990       42\n",
       "        ...  \n",
       "1924        1\n",
       "1972        1\n",
       "1948        1\n",
       "1942        1\n",
       "1966        1\n",
       "Name: yr_renovated, Length: 82, dtype: int64"
      ]
     },
     "execution_count": 6,
     "metadata": {},
     "output_type": "execute_result"
    }
   ],
   "source": [
    "df['yr_renovated'].value_counts()"
   ]
  },
  {
   "cell_type": "code",
   "execution_count": 7,
   "id": "33ede7ea",
   "metadata": {},
   "outputs": [],
   "source": [
    "#drop rows containing addresses not in King County\n",
    "        \n",
    "zip_list = [98052,98115,98103,98092,98042,98023,98105,98003,98034,98118,98133,98058,98125,98031,98122,98033,98006,98032,98030,98004,98001,98059,98117,98056,98198,98168,98155,98027,98109,98002,98038,98144,98146,98074,98119,98007,98040,98029,98107,98011,98108,98072,98106,98178,98116,98112,98008,98053,98028,98126,98188,98102,98055,98075,98177,98022,98166,98199,98005,98121,98136,98045,98057,98019,98104,98077,98101,98065,98148,98070,98014,98354,98024,98051,98010,98047,98251,98134,98039,98195,98158,98068,98256,98288,98050,98132,98171,98184,98054,98009,98013,98015,98025,98035,98041,98062,98064,98063,98071,98073,98083,98089,98093,98111,98113,98114,98124,98127,98131,98129,98139,98138,98141,98145,98151,98154,98160,98164,98161,98165,98170,98174,98175,98181,98185,98190,98194,98191,98224,98471,98481]\n",
    "zip_list = list(map(lambda x: str(x), zip_list))\n",
    "\n",
    "df['in_target_area'] = df['address'].apply(lambda x: any(zip_code in x for zip_code in zip_list))\n",
    "df = df.drop(df[df['in_target_area'] == False].index)"
   ]
  },
  {
   "cell_type": "code",
   "execution_count": 8,
   "id": "788a6793",
   "metadata": {},
   "outputs": [
    {
     "data": {
      "text/html": [
       "<div>\n",
       "<style scoped>\n",
       "    .dataframe tbody tr th:only-of-type {\n",
       "        vertical-align: middle;\n",
       "    }\n",
       "\n",
       "    .dataframe tbody tr th {\n",
       "        vertical-align: top;\n",
       "    }\n",
       "\n",
       "    .dataframe thead th {\n",
       "        text-align: right;\n",
       "    }\n",
       "</style>\n",
       "<table border=\"1\" class=\"dataframe\">\n",
       "  <thead>\n",
       "    <tr style=\"text-align: right;\">\n",
       "      <th></th>\n",
       "      <th>id</th>\n",
       "      <th>date</th>\n",
       "      <th>price</th>\n",
       "      <th>bedrooms</th>\n",
       "      <th>bathrooms</th>\n",
       "      <th>sqft_living</th>\n",
       "      <th>sqft_lot</th>\n",
       "      <th>floors</th>\n",
       "      <th>waterfront</th>\n",
       "      <th>greenbelt</th>\n",
       "      <th>...</th>\n",
       "      <th>sqft_garage</th>\n",
       "      <th>sqft_patio</th>\n",
       "      <th>yr_built</th>\n",
       "      <th>yr_renovated</th>\n",
       "      <th>address</th>\n",
       "      <th>lat</th>\n",
       "      <th>long</th>\n",
       "      <th>sale_month</th>\n",
       "      <th>sale_year</th>\n",
       "      <th>in_target_area</th>\n",
       "    </tr>\n",
       "  </thead>\n",
       "  <tbody>\n",
       "    <tr>\n",
       "      <th>0</th>\n",
       "      <td>7399300360</td>\n",
       "      <td>2022-05-24</td>\n",
       "      <td>675000.0</td>\n",
       "      <td>4</td>\n",
       "      <td>1.0</td>\n",
       "      <td>1180</td>\n",
       "      <td>7140</td>\n",
       "      <td>1.0</td>\n",
       "      <td>NO</td>\n",
       "      <td>NO</td>\n",
       "      <td>...</td>\n",
       "      <td>0</td>\n",
       "      <td>40</td>\n",
       "      <td>1969</td>\n",
       "      <td>0</td>\n",
       "      <td>2102 Southeast 21st Court, Renton, Washington ...</td>\n",
       "      <td>47.461975</td>\n",
       "      <td>-122.19052</td>\n",
       "      <td>5</td>\n",
       "      <td>2022</td>\n",
       "      <td>True</td>\n",
       "    </tr>\n",
       "    <tr>\n",
       "      <th>1</th>\n",
       "      <td>8910500230</td>\n",
       "      <td>2021-12-13</td>\n",
       "      <td>920000.0</td>\n",
       "      <td>5</td>\n",
       "      <td>2.5</td>\n",
       "      <td>2770</td>\n",
       "      <td>6703</td>\n",
       "      <td>1.0</td>\n",
       "      <td>NO</td>\n",
       "      <td>NO</td>\n",
       "      <td>...</td>\n",
       "      <td>0</td>\n",
       "      <td>240</td>\n",
       "      <td>1950</td>\n",
       "      <td>0</td>\n",
       "      <td>11231 Greenwood Avenue North, Seattle, Washing...</td>\n",
       "      <td>47.711525</td>\n",
       "      <td>-122.35591</td>\n",
       "      <td>12</td>\n",
       "      <td>2021</td>\n",
       "      <td>True</td>\n",
       "    </tr>\n",
       "    <tr>\n",
       "      <th>2</th>\n",
       "      <td>1180000275</td>\n",
       "      <td>2021-09-29</td>\n",
       "      <td>311000.0</td>\n",
       "      <td>6</td>\n",
       "      <td>2.0</td>\n",
       "      <td>2880</td>\n",
       "      <td>6156</td>\n",
       "      <td>1.0</td>\n",
       "      <td>NO</td>\n",
       "      <td>NO</td>\n",
       "      <td>...</td>\n",
       "      <td>0</td>\n",
       "      <td>0</td>\n",
       "      <td>1956</td>\n",
       "      <td>0</td>\n",
       "      <td>8504 South 113th Street, Seattle, Washington 9...</td>\n",
       "      <td>47.502045</td>\n",
       "      <td>-122.22520</td>\n",
       "      <td>9</td>\n",
       "      <td>2021</td>\n",
       "      <td>True</td>\n",
       "    </tr>\n",
       "    <tr>\n",
       "      <th>3</th>\n",
       "      <td>1604601802</td>\n",
       "      <td>2021-12-14</td>\n",
       "      <td>775000.0</td>\n",
       "      <td>3</td>\n",
       "      <td>3.0</td>\n",
       "      <td>2160</td>\n",
       "      <td>1400</td>\n",
       "      <td>2.0</td>\n",
       "      <td>NO</td>\n",
       "      <td>NO</td>\n",
       "      <td>...</td>\n",
       "      <td>200</td>\n",
       "      <td>270</td>\n",
       "      <td>2010</td>\n",
       "      <td>0</td>\n",
       "      <td>4079 Letitia Avenue South, Seattle, Washington...</td>\n",
       "      <td>47.566110</td>\n",
       "      <td>-122.29020</td>\n",
       "      <td>12</td>\n",
       "      <td>2021</td>\n",
       "      <td>True</td>\n",
       "    </tr>\n",
       "    <tr>\n",
       "      <th>4</th>\n",
       "      <td>8562780790</td>\n",
       "      <td>2021-08-24</td>\n",
       "      <td>592500.0</td>\n",
       "      <td>2</td>\n",
       "      <td>2.0</td>\n",
       "      <td>1120</td>\n",
       "      <td>758</td>\n",
       "      <td>2.0</td>\n",
       "      <td>NO</td>\n",
       "      <td>NO</td>\n",
       "      <td>...</td>\n",
       "      <td>550</td>\n",
       "      <td>30</td>\n",
       "      <td>2012</td>\n",
       "      <td>0</td>\n",
       "      <td>2193 Northwest Talus Drive, Issaquah, Washingt...</td>\n",
       "      <td>47.532470</td>\n",
       "      <td>-122.07188</td>\n",
       "      <td>8</td>\n",
       "      <td>2021</td>\n",
       "      <td>True</td>\n",
       "    </tr>\n",
       "  </tbody>\n",
       "</table>\n",
       "<p>5 rows × 28 columns</p>\n",
       "</div>"
      ],
      "text/plain": [
       "           id       date     price  bedrooms  bathrooms  sqft_living  \\\n",
       "0  7399300360 2022-05-24  675000.0         4        1.0         1180   \n",
       "1  8910500230 2021-12-13  920000.0         5        2.5         2770   \n",
       "2  1180000275 2021-09-29  311000.0         6        2.0         2880   \n",
       "3  1604601802 2021-12-14  775000.0         3        3.0         2160   \n",
       "4  8562780790 2021-08-24  592500.0         2        2.0         1120   \n",
       "\n",
       "   sqft_lot  floors waterfront greenbelt  ... sqft_garage sqft_patio yr_built  \\\n",
       "0      7140     1.0         NO        NO  ...           0         40     1969   \n",
       "1      6703     1.0         NO        NO  ...           0        240     1950   \n",
       "2      6156     1.0         NO        NO  ...           0          0     1956   \n",
       "3      1400     2.0         NO        NO  ...         200        270     2010   \n",
       "4       758     2.0         NO        NO  ...         550         30     2012   \n",
       "\n",
       "  yr_renovated                                            address        lat  \\\n",
       "0            0  2102 Southeast 21st Court, Renton, Washington ...  47.461975   \n",
       "1            0  11231 Greenwood Avenue North, Seattle, Washing...  47.711525   \n",
       "2            0  8504 South 113th Street, Seattle, Washington 9...  47.502045   \n",
       "3            0  4079 Letitia Avenue South, Seattle, Washington...  47.566110   \n",
       "4            0  2193 Northwest Talus Drive, Issaquah, Washingt...  47.532470   \n",
       "\n",
       "        long  sale_month  sale_year  in_target_area  \n",
       "0 -122.19052           5       2022            True  \n",
       "1 -122.35591          12       2021            True  \n",
       "2 -122.22520           9       2021            True  \n",
       "3 -122.29020          12       2021            True  \n",
       "4 -122.07188           8       2021            True  \n",
       "\n",
       "[5 rows x 28 columns]"
      ]
     },
     "execution_count": 8,
     "metadata": {},
     "output_type": "execute_result"
    }
   ],
   "source": [
    "df.head()"
   ]
  },
  {
   "cell_type": "code",
   "execution_count": 9,
   "id": "58d5b0f5",
   "metadata": {},
   "outputs": [],
   "source": [
    "# Breakout city and zipcode from the address column\n",
    "\n",
    "def residential_check(value):\n",
    "    if len(value.split(',')) == 4:\n",
    "        return True\n",
    "    if len(value.split(',')) != 4:\n",
    "        return False\n",
    "\n",
    "df['residential'] = df['address'].apply(lambda x: residential_check(x))    \n",
    "df = df.drop(df[df['residential'] == False].index)\n",
    "df[['House_Num', 'City', 'State_ZIP', 'Country']] = df['address'].str.split(',', expand=True)    \n",
    "df[['Empty', 'State', 'ZIP']] = df['State_ZIP'].str.split(' ', expand=True) \n",
    "df.drop(columns = ['Empty', 'in_target_area', 'residential'], inplace = True)\n",
    "df[\"City\"] = df[\"City\"].apply(lambda x: x.strip())\n",
    "df[\"ZIP\"] = df[\"ZIP\"].apply(lambda x: x.strip())\n",
    "df[\"House_Num\"] = df[\"House_Num\"].apply(lambda x: x.strip())"
   ]
  },
  {
   "cell_type": "code",
   "execution_count": 10,
   "id": "0e8fef64",
   "metadata": {},
   "outputs": [],
   "source": [
    "# Drop all duplicated housing IDs and addresses. Drop homes missing bed/bath data\n",
    "df['id'].duplicated().value_counts()\n",
    "df.drop_duplicates(subset = 'id', keep = 'first', inplace = True)\n",
    "\n",
    "\n",
    "df['address'].duplicated().value_counts() \n",
    "df.sort_values(by = ['date'], ascending = False, inplace = True)\n",
    "df.drop_duplicates(subset = ['address'], keep = 'first', inplace = True)\n",
    "\n",
    "df = df[(df['bedrooms'] != 0) & (df['bathrooms'] != 0)]\n",
    "\n",
    "df.reset_index(drop = True, inplace = True)"
   ]
  },
  {
   "cell_type": "code",
   "execution_count": 11,
   "id": "ce6ae87b",
   "metadata": {
    "scrolled": true
   },
   "outputs": [
    {
     "data": {
      "image/png": "[encoded data removed]",
      "text/plain": [
       "<Figure size 864x576 with 1 Axes>"
      ]
     },
     "metadata": {
      "needs_background": "light"
     },
     "output_type": "display_data"
    }
   ],
   "source": [
    "#Visualize price to find outliers \n",
    "import matplotlib.pyplot as plt\n",
    "import seaborn as sns\n",
    "\n",
    "plt.figure(figsize=(12, 8))\n",
    "sns.boxplot(x = df['price'])\n",
    "plt.show()\n",
    "\n"
   ]
  },
  {
   "cell_type": "markdown",
   "id": "1e5c6d6d",
   "metadata": {},
   "source": [
    "# Pre-Split Data Transformation"
   ]
  },
  {
   "cell_type": "code",
   "execution_count": 11,
   "id": "a4d74bd2",
   "metadata": {
    "scrolled": false
   },
   "outputs": [
    {
     "data": {
      "image/png": "[encoded data removed]",
      "text/plain": [
       "<Figure size 1440x1080 with 2 Axes>"
      ]
     },
     "metadata": {
      "needs_background": "light"
     },
     "output_type": "display_data"
    }
   ],
   "source": [
    "#Run heatmap to identify variables most correlated with price \n",
    "plt.figure(figsize=(20, 15))\n",
    "sns.heatmap(df.corr(), annot = True)\n",
    "plt.show();\n",
    "\n",
    "# sqft_living most correlated with price, use as single variable base model"
   ]
  },
  {
   "cell_type": "code",
   "execution_count": 12,
   "id": "911769e5",
   "metadata": {
    "scrolled": false
   },
   "outputs": [
    {
     "data": {
      "image/png": "[encoded data removed]",
      "text/plain": [
       "<Figure size 864x576 with 1 Axes>"
      ]
     },
     "metadata": {
      "needs_background": "light"
     },
     "output_type": "display_data"
    }
   ],
   "source": [
    "plt.figure(figsize=(12, 8))\n",
    "sns.histplot(x='price', data = df)\n",
    "plt.show()"
   ]
  },
  {
   "cell_type": "code",
   "execution_count": 20,
   "id": "fd755dd9",
   "metadata": {},
   "outputs": [],
   "source": [
    "# log sqft_living and sqft_above which are the two most correlated factors with price, ensuring a normal distro\n",
    "import numpy as np\n",
    "df['log_price'] = np.log(df['price'])\n",
    "df['log_sqft_living'] = np.log(df['sqft_living'])\n",
    "df['log_sqft_above'] = np.log(df['sqft_above'])\n",
    "df['log_sqft_lot'] = np.log(df['sqft_lot'])"
   ]
  },
  {
   "cell_type": "markdown",
   "id": "ed72a633",
   "metadata": {},
   "source": [
    "# Creating Pairplot for Colinearity"
   ]
  },
  {
   "cell_type": "code",
   "execution_count": null,
   "id": "fd98cf14",
   "metadata": {},
   "outputs": [],
   "source": [
    "sns.pairplot(df.sample(3000))"
   ]
  },
  {
   "cell_type": "markdown",
   "id": "9a45d83f",
   "metadata": {},
   "source": [
    "# Creating Base Model "
   ]
  },
  {
   "cell_type": "code",
   "execution_count": 21,
   "id": "919be07e",
   "metadata": {},
   "outputs": [
    {
     "data": {
      "text/plain": [
       "0.3573450745797273"
      ]
     },
     "execution_count": 21,
     "metadata": {},
     "output_type": "execute_result"
    }
   ],
   "source": [
    "# Run train-test split to create test and control group\n",
    "\n",
    "from sklearn.linear_model import LinearRegression\n",
    "from sklearn.model_selection import train_test_split\n",
    "from sklearn.preprocessing import StandardScaler\n",
    "import sklearn.metrics as metrics\n",
    "import numpy as np\n",
    "\n",
    "\n",
    "X = df['log_sqft_living'].values.reshape(-1,1)\n",
    "y = df['log_price'].values.reshape(-1,1)\n",
    "X_train, X_test, y_train, y_test = train_test_split(\n",
    "    X, y, test_size=0.33, random_state=42)\n",
    "\n",
    "model = LinearRegression()\n",
    "model.fit(X_train, y_train)\n",
    "model.score(X_train, y_train)\n",
    "\n",
    "#baseline r-squared value is .1102  \n",
    "\n"
   ]
  },
  {
   "cell_type": "markdown",
   "id": "cb7694ff",
   "metadata": {},
   "source": [
    "# Model 1: Multi-Linear using select numeric columns and standard scalar"
   ]
  },
  {
   "cell_type": "code",
   "execution_count": 12,
   "id": "0cf975b3",
   "metadata": {},
   "outputs": [
    {
     "name": "stdout",
     "output_type": "stream",
     "text": [
      "<class 'pandas.core.frame.DataFrame'>\n",
      "RangeIndex: 28971 entries, 0 to 28970\n",
      "Data columns (total 33 columns):\n",
      " #   Column         Non-Null Count  Dtype         \n",
      "---  ------         --------------  -----         \n",
      " 0   id             28971 non-null  int64         \n",
      " 1   date           28971 non-null  datetime64[ns]\n",
      " 2   price          28971 non-null  float64       \n",
      " 3   bedrooms       28971 non-null  int64         \n",
      " 4   bathrooms      28971 non-null  float64       \n",
      " 5   sqft_living    28971 non-null  int64         \n",
      " 6   sqft_lot       28971 non-null  int64         \n",
      " 7   floors         28971 non-null  float64       \n",
      " 8   waterfront     28971 non-null  object        \n",
      " 9   greenbelt      28971 non-null  object        \n",
      " 10  nuisance       28971 non-null  object        \n",
      " 11  view           28971 non-null  object        \n",
      " 12  condition      28971 non-null  object        \n",
      " 13  grade          28971 non-null  object        \n",
      " 14  heat_source    28971 non-null  object        \n",
      " 15  sewer_system   28971 non-null  object        \n",
      " 16  sqft_above     28971 non-null  int64         \n",
      " 17  sqft_basement  28971 non-null  int64         \n",
      " 18  sqft_garage    28971 non-null  int64         \n",
      " 19  sqft_patio     28971 non-null  int64         \n",
      " 20  yr_built       28971 non-null  int64         \n",
      " 21  yr_renovated   28971 non-null  int64         \n",
      " 22  address        28971 non-null  object        \n",
      " 23  lat            28971 non-null  float64       \n",
      " 24  long           28971 non-null  float64       \n",
      " 25  sale_month     28971 non-null  int64         \n",
      " 26  sale_year      28971 non-null  int64         \n",
      " 27  House_Num      28971 non-null  object        \n",
      " 28  City           28971 non-null  object        \n",
      " 29  State_ZIP      28971 non-null  object        \n",
      " 30  Country        28971 non-null  object        \n",
      " 31  State          28971 non-null  object        \n",
      " 32  ZIP            28971 non-null  object        \n",
      "dtypes: datetime64[ns](1), float64(5), int64(12), object(15)\n",
      "memory usage: 7.3+ MB\n"
     ]
    }
   ],
   "source": [
    "df.info()"
   ]
  },
  {
   "cell_type": "code",
   "execution_count": 22,
   "id": "2c5178af",
   "metadata": {},
   "outputs": [],
   "source": [
    "ind_vars = ['bedrooms', 'bathrooms', 'log_sqft_living', 'log_sqft_lot', 'floors', 'log_sqft_above', 'sqft_basement',\n",
    "            'sqft_garage', 'sqft_patio', 'yr_built', 'yr_renovated', 'sale_month', 'sale_year']"
   ]
  },
  {
   "cell_type": "code",
   "execution_count": 24,
   "id": "ac5f4b73",
   "metadata": {},
   "outputs": [
    {
     "data": {
      "text/plain": [
       "0.41000816628720904"
      ]
     },
     "execution_count": 24,
     "metadata": {},
     "output_type": "execute_result"
    }
   ],
   "source": [
    "\n",
    "X = df[ind_vars]\n",
    "y = df['log_price']\n",
    "X_train, X_test, y_train, y_test = train_test_split(\n",
    "    X, y, test_size=0.33, random_state=42)\n",
    "\n",
    "scaler = StandardScaler()\n",
    "scaler.fit(X_train)\n",
    "\n",
    "X_train_scaled = scaler.transform(X_train)\n",
    "X_test_scaled = scaler.transform(X_test)\n",
    "\n",
    "X_train_scaled = pd.DataFrame(X_train_scaled,\n",
    "                              columns=X_train.columns,\n",
    "                              index=X_train.index)\n",
    "X_test_scaled = pd.DataFrame(X_test_scaled,\n",
    "                             columns=X_test.columns,\n",
    "                             index=X_test.index)\n",
    "\n",
    "\n",
    "model = LinearRegression()\n",
    "model.fit(X_train_scaled, y_train)\n",
    "model.score(X_test_scaled, y_test)\n",
    "# dict(zip(X_test.columns, model.coef_))\n",
    "\n",
    "# R-squared improves to .4232\n"
   ]
  },
  {
   "cell_type": "code",
   "execution_count": null,
   "id": "edc7a52c",
   "metadata": {},
   "outputs": [],
   "source": [
    "#OLS to examine \n",
    "\n",
    "import statsmodels.api as sm\n",
    "\n",
    "X = df[ind_vars]\n",
    "y = df['log_price']\n",
    "X_train, X_test, y_train, y_test = train_test_split(\n",
    "    X, y, test_size=0.33, random_state=42)\n",
    "\n",
    "\n",
    "scaler = StandardScaler()\n",
    "scaler.fit(X_train)\n",
    "\n",
    "X_train_scaled = scaler.transform(X_train)\n",
    "X_test_scaled = scaler.transform(X_test)\n",
    "\n",
    "\n",
    "X_train_scaled = pd.DataFrame(X_train_scaled,\n",
    "                              columns=X_train.columns,\n",
    "                              index=X_train.index)\n",
    "X_test_scaled = pd.DataFrame(X_test_scaled,\n",
    "                             columns=X_test.columns,\n",
    "                             index=X_test.index)\n",
    "\n",
    "\n",
    "model_OLS = sm.OLS(endog=y_train, exog=sm.add_constant(X_train_scaled)).fit()\n",
    "print(model_OLS.summary())\n"
   ]
  },
  {
   "cell_type": "code",
   "execution_count": null,
   "id": "88e3d7f2",
   "metadata": {
    "scrolled": true
   },
   "outputs": [],
   "source": [
    "model_pred = model_OLS.predict()\n",
    "resids = y_train - model_pred\n",
    "\n",
    "resids[abs(resids) < 5000].hist(bins=30);\n",
    "\n",
    "#Durbin-Watson confirms independence of errors. Residual histogram confirms normality. "
   ]
  },
  {
   "cell_type": "code",
   "execution_count": null,
   "id": "22676466",
   "metadata": {},
   "outputs": [],
   "source": [
    "fig, ax = plt.subplots()\n",
    "\n",
    "ax.scatter(y_train, resids);\n",
    "\n",
    "#Minimal spread in residual scatter confirms homoskedasticity "
   ]
  },
  {
   "cell_type": "code",
   "execution_count": null,
   "id": "6cb690c3",
   "metadata": {},
   "outputs": [],
   "source": [
    "df.info()"
   ]
  },
  {
   "cell_type": "markdown",
   "id": "9e5d8be2",
   "metadata": {},
   "source": [
    "# Model 1.5: Dropping Co-linear Features + Not Stat Sig Features"
   ]
  },
  {
   "cell_type": "code",
   "execution_count": null,
   "id": "86373fe5",
   "metadata": {},
   "outputs": [],
   "source": [
    "ind_vars = ['bedrooms', 'bathrooms', 'log_sqft_living', 'log_sqft_lot', 'floors', 'log_sqft_above', 'sqft_basement',\n",
    "            'sqft_garage', 'sqft_patio', 'yr_built', 'yr_renovated', 'sale_month', 'sale_year']"
   ]
  },
  {
   "cell_type": "code",
   "execution_count": null,
   "id": "e664299a",
   "metadata": {},
   "outputs": [],
   "source": [
    "X = df[ind_vars]\n",
    "y = df['log_price']\n",
    "X_train, X_test, y_train, y_test = train_test_split(\n",
    "    X, y, test_size=0.33, random_state=42)\n",
    "\n",
    "scaler = StandardScaler()\n",
    "scaler.fit(X_train)\n",
    "\n",
    "X_train_scaled = scaler.transform(X_train)\n",
    "X_test_scaled = scaler.transform(X_test)\n",
    "\n",
    "X_train_scaled = pd.DataFrame(X_train_scaled,\n",
    "                              columns=X_train.columns,\n",
    "                              index=X_train.index)\n",
    "X_test_scaled = pd.DataFrame(X_test_scaled,\n",
    "                             columns=X_test.columns,\n",
    "                             index=X_test.index)\n",
    "\n",
    "model = LinearRegression()\n",
    "model.fit(X_train_scaled, y_train)\n",
    "model.score(X_test_scaled, y_test)"
   ]
  },
  {
   "cell_type": "markdown",
   "id": "76e1fe18",
   "metadata": {},
   "source": [
    "# Model 2: Add Interaction Variable for Living Space "
   ]
  },
  {
   "cell_type": "code",
   "execution_count": null,
   "id": "0c9d04c8",
   "metadata": {},
   "outputs": [],
   "source": [
    "ind_vars = ['bedrooms', 'bathrooms', 'log_sqft_living', 'log_sqft_lot', 'floors', 'log_sqft_above', 'sqft_basement',\n",
    "            'sqft_garage', 'sqft_patio', 'yr_built', 'yr_renovated', 'sale_month', 'sale_year', 'living_interaction']"
   ]
  },
  {
   "cell_type": "code",
   "execution_count": null,
   "id": "f4e8fe6b",
   "metadata": {},
   "outputs": [],
   "source": [
    "# interaction_living = bedrooms + bathrooms + sqft_living + sqft_above \n",
    "\n",
    "df['living_interaction'] = df['bedrooms'] * df['bathrooms'] * df['sqft_living'] * df['sqft_above'] * df['floors']\n",
    "\n",
    "X = df[ind_vars]\n",
    "y = df['log_price']\n",
    "X_train, X_test, y_train, y_test = train_test_split(\n",
    "    X, y, test_size=0.33, random_state=42)\n",
    "\n",
    "scaler = StandardScaler()\n",
    "scaler.fit(X_train)\n",
    "\n",
    "X_train_scaled = scaler.transform(X_train)\n",
    "X_test_scaled = scaler.transform(X_test)\n",
    "\n",
    "X_train_scaled = pd.DataFrame(X_train_scaled,\n",
    "                              columns=X_train.columns,\n",
    "                              index=X_train.index)\n",
    "X_test_scaled = pd.DataFrame(X_test_scaled,\n",
    "                             columns=X_test.columns,\n",
    "                             index=X_test.index)\n",
    "\n",
    "model = LinearRegression()\n",
    "model.fit(X_train_scaled, y_train)\n",
    "model.score(X_test_scaled, y_test)\n",
    "\n",
    "#model score with all individual variables and living_interaction included: .4234\n"
   ]
  },
  {
   "cell_type": "code",
   "execution_count": null,
   "id": "bf459fb8",
   "metadata": {},
   "outputs": [],
   "source": [
    "ind_vars = ['bedrooms', 'bathrooms', 'log_sqft_living', 'log_sqft_lot', 'floors', 'log_sqft_above', 'sqft_basement',\n",
    "            'sqft_garage', 'sqft_patio', 'yr_built', 'yr_renovated', 'sale_month', 'sale_year', 'living_interaction']"
   ]
  },
  {
   "cell_type": "code",
   "execution_count": null,
   "id": "ffd9f151",
   "metadata": {},
   "outputs": [],
   "source": [
    "df['living_interaction'] = df['bedrooms'] * df['bathrooms'] * df['sqft_living'] * df['sqft_above'] * df['floors']\n",
    "\n",
    "X = df[ind_vars]\n",
    "y = df['price']\n",
    "X_train, X_test, y_train, y_test = train_test_split(\n",
    "    X, y, test_size=0.33, random_state=42)\n",
    "\n",
    "scaler = StandardScaler()\n",
    "scaler.fit(X_train)\n",
    "\n",
    "X_train_scaled = scaler.transform(X_train)\n",
    "X_test_scaled = scaler.transform(X_test)\n",
    "\n",
    "X_train_scaled = pd.DataFrame(X_train_scaled,\n",
    "                              columns=X_train.columns,\n",
    "                              index=X_train.index)\n",
    "X_test_scaled = pd.DataFrame(X_test_scaled,\n",
    "                             columns=X_test.columns,\n",
    "                             index=X_test.index)\n",
    "\n",
    "model = LinearRegression()\n",
    "model.fit(X_train_scaled, y_train)\n",
    "model.score(X_test_scaled, y_test)\n",
    "\n",
    "#model score with all individual variables removed and only using living_interaction: .23749"
   ]
  },
  {
   "cell_type": "markdown",
   "id": "85b13f6c",
   "metadata": {},
   "source": [
    "# Model 3: Adding Binary and Ordinal Categorical Data"
   ]
  },
  {
   "cell_type": "code",
   "execution_count": null,
   "id": "3715b80e",
   "metadata": {},
   "outputs": [],
   "source": [
    "df.info()"
   ]
  },
  {
   "cell_type": "code",
   "execution_count": null,
   "id": "eeb6181c",
   "metadata": {},
   "outputs": [],
   "source": [
    "# identify which variables are nominal and which are ordinal\n",
    "\n",
    "df['waterfront'].value_counts()\n",
    "#waterfront is binary, replace with No = 0, Yes = 1\n",
    "\n",
    "df['greenbelt'].value_counts()\n",
    "# #greenbelt is binary, replace with No = 0, Yes = 1\n",
    "\n",
    "df['nuisance'].value_counts()\n",
    "# #nuisance is binary, replace with No = 0, Yes = 1\n",
    "\n",
    "df['view'].value_counts()\n",
    "# #view is ordinal. Set {None: 0, Fair:1, Average:2, Good:3, Excellent:4}\n",
    "\n",
    "df['condition'].value_counts()\n",
    "# #condition is ordinal. Set {Poor: 0, Fair:1, Average:2, Good:3, Very Good:4}\n",
    "\n",
    "df['grade'].value_counts()\n",
    "# #grade is ordinal. Set {2 Substandard: 0, 3 Poor: 1, 4 Low: 2, 5 Fair: 3, 6 Low Average: 4, 7 Average: 5,\n",
    "# # 8 Good: 6, 9 Better: 7, 10 Very Good: 8, 11 Excellent: 9, 12 Luxury: 10, 13 Mansion: 11}\n",
    "\n",
    "# df['heat_source'].value_counts()\n",
    "# #heat source is nominal. split into columns with onehot encoder\n",
    "\n",
    "# df['sewer_system'].value_counts()\n",
    "# #sewer system is nominal. split into columns with onehot encoder\n",
    "\n",
    "# df['City'].value_counts()\n",
    "# #city is nominal. TBD\n",
    "\n",
    "# df['ZIP'].value_counts()\n",
    "# #city is nominal. TBD"
   ]
  },
  {
   "cell_type": "code",
   "execution_count": null,
   "id": "6ad4f09c",
   "metadata": {},
   "outputs": [],
   "source": [
    "\n",
    "from sklearn.preprocessing import OrdinalEncoder\n",
    "ord_cat_selector = ['view', 'condition', 'grade']\n",
    "cat_subset = df[ord_cat_selector]\n",
    "view_list = ['NONE', 'FAIR', 'AVERAGE', 'GOOD', 'EXCELLENT']\n",
    "condition_list = ['Poor', 'Fair', 'Average', 'Good', 'Very Good']\n",
    "grade_list = ['2 Substandard', '3 Poor', '4 Low', '5 Fair', '6 Low Average', '7 Average', '8 Good', '9 Better'\n",
    "              , '10 Very Good', '11 Excellent', '12 Luxury', '13 Mansion']\n",
    "o_enc = OrdinalEncoder(categories = [view_list, condition_list, grade_list])\n",
    "o_enc.fit(cat_subset)\n",
    "o_enc.transform(cat_subset)\n",
    "\n",
    "X_ord = pd.DataFrame(o_enc.transform(cat_subset),\n",
    "                        columns = cat_subset.columns)\n",
    "X_ord.rename(columns = {'view':'view_ord', 'condition': 'condition_ord', 'grade':'grade_ord'}, inplace = True)\n",
    "df_ord = pd.concat([df, X_ord], axis =1)\n",
    "df_ord.head()\n",
    "\n",
    "df_ord['waterfront'] = df_ord['waterfront'].map({'NO': 0, 'YES': 1})\n",
    "df_ord['greenbelt'] = df_ord['greenbelt'].map({'NO': 0, 'YES': 1})\n",
    "df_ord['nuisance'] = df_ord['nuisance'].map({'NO': 0, 'YES': 1})\n",
    "\n",
    "\n",
    "\n",
    "\n",
    "ind_vars = ['bedrooms', 'bathrooms', 'sqft_living', 'sqft_lot', 'floors', 'sqft_above', 'sqft_basement',\n",
    "                'sqft_garage', 'sqft_patio', 'yr_built', 'yr_renovated', 'sale_month', 'sale_year', 'living_interaction',\n",
    "               'waterfront', 'greenbelt', 'nuisance', 'view_ord', 'condition_ord', 'grade_ord']\n",
    "\n",
    "\n",
    "X = df_ord[ind_vars]\n",
    "y = np.log(df_ord['price'])\n",
    "X_train, X_test, y_train, y_test = train_test_split(\n",
    "     X, y, test_size=0.33, random_state=42)\n",
    "\n",
    "scaler = StandardScaler()\n",
    "scaler.fit(X_train)\n",
    "\n",
    "X_train_scaled = scaler.transform(X_train)\n",
    "X_test_scaled = scaler.transform(X_test)\n",
    "\n",
    "X_train_scaled = pd.DataFrame(X_train_scaled,\n",
    "                               columns=X_train.columns,\n",
    "                               index=X_train.index)\n",
    "X_test_scaled = pd.DataFrame(X_test_scaled,\n",
    "                              columns=X_test.columns,\n",
    "                              index=X_test.index)\n",
    "\n",
    "model = LinearRegression()\n",
    "model.fit(X_train_scaled, y_train)\n",
    "model.score(X_test_scaled, y_test)\n"
   ]
  },
  {
   "cell_type": "markdown",
   "id": "417c0534",
   "metadata": {},
   "source": [
    "# Model 5: Add Nominal Categorical Data "
   ]
  },
  {
   "cell_type": "code",
   "execution_count": null,
   "id": "d52413b0",
   "metadata": {},
   "outputs": [],
   "source": [
    "ind_vars = ['bedrooms', 'bathrooms', 'sqft_living', 'sqft_lot', 'floors', 'sqft_above', 'sqft_basement',\n",
    "                'sqft_garage', 'sqft_patio', 'yr_built', 'yr_renovated', 'sale_month', 'sale_year', 'living_interaction',\n",
    "               'waterfront', 'greenbelt', 'nuisance', 'view_ord', 'condition_ord', 'grade_ord', 'heat_source',\n",
    "           'sewer_system', 'City', 'ZIP']\n"
   ]
  },
  {
   "cell_type": "code",
   "execution_count": null,
   "id": "3cd91a18",
   "metadata": {},
   "outputs": [],
   "source": [
    "from sklearn.preprocessing import OneHotEncoder\n",
    "\n",
    "X = df_ord[ind_vars]\n",
    "y = np.log(df_ord['price'])\n",
    "X_train, X_test, y_train, y_test = train_test_split(\n",
    "     X, y, test_size=0.33, random_state=42)\n",
    "\n",
    "ohe = OneHotEncoder(sparse = False, handle_unknown = 'ignore')\n",
    "\n",
    "train_ohe = ohe.fit_transform(X_train[['heat_source','sewer_system', 'City', 'ZIP']])\n",
    "test_ohe = ohe.transform(X_test[['heat_source','sewer_system', 'City', 'ZIP']])\n",
    "\n",
    "\n",
    "\n",
    "ohe_train = pd.DataFrame(train_ohe, columns = ohe.get_feature_names())\n",
    "ohe_test = pd.DataFrame(test_ohe, columns = ohe.get_feature_names())\n",
    "\n",
    "\n",
    "\n",
    "X_train = pd.concat([X_train.drop(columns =['heat_source','sewer_system', 'City', 'ZIP']).reset_index(), ohe_train],1)\n",
    "X_test = pd.concat([X_test.drop(columns =['heat_source','sewer_system', 'City', 'ZIP']).reset_index(), ohe_test],1)"
   ]
  },
  {
   "cell_type": "code",
   "execution_count": null,
   "id": "f4e0e37b",
   "metadata": {},
   "outputs": [],
   "source": [
    "lr = LinearRegression()\n",
    "\n",
    "lr.fit(X_train, y_train)\n",
    "lr.score(X_test, y_test)"
   ]
  },
  {
   "cell_type": "code",
   "execution_count": null,
   "id": "e8b510a6",
   "metadata": {},
   "outputs": [],
   "source": [
    "from sklearn.preprocessing import StandardScaler\n",
    "\n",
    "scaler = StandardScaler()\n",
    "\n",
    "cols_to_scale = ['bedrooms', 'bathrooms', 'sqft_living', 'sqft_lot', 'floors', 'sqft_above', 'sqft_basement',\n",
    "                'sqft_garage', 'sqft_patio', 'yr_built', 'yr_renovated', 'sale_month', 'sale_year', 'living_interaction',\n",
    "               'waterfront', 'greenbelt', 'nuisance', 'view_ord', 'condition_ord', 'grade_ord']\n",
    "\n",
    "    \n",
    "X_train[cols_to_scale] =scaler.fit_transform(X_train[cols_to_scale])\n",
    "\n",
    "X_test[cols_to_scale] =scaler.fit_transform(X_test[cols_to_scale])\n",
    "\n",
    "\n",
    "\n",
    "\n",
    "\n",
    "\n"
   ]
  },
  {
   "cell_type": "code",
   "execution_count": null,
   "id": "9bf63d62",
   "metadata": {},
   "outputs": [],
   "source": [
    "lr.fit(X_train,y_train)\n",
    "lr.score(X_test,y_test)\n",
    "# All categorical and numerical data included: .6011"
   ]
  },
  {
   "cell_type": "markdown",
   "id": "702f820f",
   "metadata": {},
   "source": [
    "# Model 6: Add Education Data "
   ]
  },
  {
   "cell_type": "code",
   "execution_count": null,
   "id": "2ac8bc6a",
   "metadata": {},
   "outputs": [],
   "source": [
    "# Create a city/town - school district map\n",
    "\n",
    "school_district_map = {\n",
    "    \"Seattle\" : \"Seattle School District\",\n",
    "    \"Renton\" : \"Renton School District\",\n",
    "    \"Kent\": \"Kent School District\",\n",
    "    \"Auburn\": \"Auburn School District\",\n",
    "    \"Bellevue\": \"Bellevue School District\",\n",
    "    \"Kirkland\": \"Lake Washington School District\",\n",
    "    \"Federal Way\": \"Federal Way School District\",\n",
    "    \"Redmond\": \"Lake Washington School District\",\n",
    "    \"Sammamish\": \"Issaquah School District\", \n",
    "    \"Maple Valley\": \"Tahoma School District\",\n",
    "    \"Shoreline\": \"Shoreline School District\",\n",
    "    \"Burien\": \"Highline School District\",\n",
    "    \"Woodinville\": \"Northshore School District\",\n",
    "    \"Issaquah\": \"Issaquah School District\",\n",
    "    \"Covington\": \"Kent School District\",\n",
    "    \"North Bend\": \"Snoqualmie Valley School District\",\n",
    "    \"Enumclaw\": \"Enumclaw School District\",\n",
    "    \"Des Moines\": \"Highline School District\",\n",
    "    \"Mercer Island\": \"Mercer Island School District\",\n",
    "    \"Kenmore\": \"Northshore School District\",\n",
    "    \"Snoqualmie\": \"Snoqualmie Valley School District\",\n",
    "    \"Black Diamond\": \"Tahoma School District\",\n",
    "    \"Bothell\": \"Northshore School District\",\n",
    "    \"SeaTac\": \"Highline School District\",\n",
    "    \"Duvall\": \"Riverview School District\",\n",
    "    \"Lake Forest Park\": \"Shoreline School District\",\n",
    "    \"Vashon\": \"Vashon Island School District\", \n",
    "    \"Newcastle\": \"Issaquah School District\",\n",
    "    \"Tukwila\": \"Tukwila School District\",\n",
    "    \"Carnation\": \"Riverview School District\",\n",
    "    \"Normandy Park\": \"Highline School District\", \n",
    "    \"Fall City\": \"Snoqualmie Valley School District\",\n",
    "    \"Pacific\": \"Auburn School District\",\n",
    "    \"Ravensdale\": \"Tahoma School District\",\n",
    "    \"Clyde Hill\": \"Bellevue School District\",\n",
    "    \"Medina\": \"Bellevue School District\",\n",
    "    \"Algona\": \"Auburn School District\",\n",
    "    \"Milton\": \"Fife School District\",\n",
    "    \"Skykomish\": \"Skykomish School District\",\n",
    "    \"Yarrow Point\": \"Bellevue School District\",\n",
    "    \"Beaux Arts\": \"Bellevue School District\",\n",
    "    \"Hunts Point\": \"Bellevue School District\",\n",
    "    \"Baring\": \"Skykomish School District\",\n",
    "    \"Preston\": \"Issaquah School District\",\n",
    "    \"Hobart\": \"Tahoma School District\",\n",
    "    \"Union Hill-Novelty Hill\": \"Lake Washington School District\",\n",
    "    \"Snoqualmie Pass\": \"Snoqualmie Valley School District\",\n",
    "    \"Lakeland North\": \"Auburn School District\",\n",
    "    \"Fairwood\": \"Kent School District\",\n",
    "    \"Cottage Lake\": \"Northshore School District\",\n",
    "    \"Ames Lake\": \"Snoqualmie Valley School District\",\n",
    "    \"White Center\": \"Highline School District\",\n",
    "    \"Dilworth\": \"Vashon Island School District\",\n",
    "}\n",
    "\n",
    "school_district_data = {\n",
    "    \"school_district\": [\"Seattle School District\", \"Renton School District\", \"Kent School District\", \"Auburn School District\", \"Bellevue School District\", \"Lake Washington School District\", \"Federal Way School District\", \"Issaquah School District\", \"Tahoma School District\", \"Shoreline School District\", \"Highline School District\", \"Northshore School District\", \"Snoqualmie Valley School District\", \"Enumclaw School District\", \"Mercer Island School District\", \"Riverview School District\", \"Vashon Island School District\", \"Tukwila School District\", \"Fife School District\", \"Skykomish School District\"],\n",
    "    \n",
    "    \"math_scores(%)\": [51.6, 32.5, 33.7, 30.2, 65.6, 70.2, 21.7, 69.6, 59.0, 55.2, 21.5, 59.6, 64.4, 40.1, 76.9, 54.7, 51.3, 16.7, 30.8, 23.8],\n",
    "    \n",
    "    \"ela_scores(%)\": [62.7, 42.9, 47.9, 43.6, 72.3, 78.5, 35.6, 76.0, 69.2, 66.6, 33.4, 72.0, 75.3, 56.7, 82.0, 69.0, 62.3, 29.6, 46.2, 71.4],\n",
    "    \n",
    "    \"graduation_rate(%)\": [88, 83, 89, 86, 94, 94, 87, 97, 94, 90, 84, 96, 96, 86, 92, 92, 94, 87, 92, 0.0],\n",
    "    \n",
    "    \"student_expenditure($)\": [18397, 16802, 16005, 16463, 17215, 14934, 16332, 15816, 14991, 15900, 17445, 15766, 15168, 15708, 16665, 15508, 16038, 18473, 15264, 58360],\n",
    "    \n",
    "    \"kindergarten_readiness(%)\": [68.3, 56.0, 47.2, 46.4, 60.0, 65.5, 46.0, 74.6, 63.1, 62.5, 55.5, 73.2, 80.6, 61.4, 78.9, 72.8, 75.0, 48.5, 48.3, 0.0],\n",
    "    \n",
    "}\n",
    "\n",
    "df_school = pd.DataFrame(school_district_data)\n"
   ]
  },
  {
   "cell_type": "code",
   "execution_count": null,
   "id": "4accf409",
   "metadata": {},
   "outputs": [],
   "source": [
    "df_ord[\"school_district\"] = df_ord[\"City\"].map(school_district_map)\n",
    "df_ord_edu = pd.merge(df_ord, df_school, on = \"school_district\")"
   ]
  },
  {
   "cell_type": "code",
   "execution_count": null,
   "id": "80c3ba44",
   "metadata": {},
   "outputs": [],
   "source": [
    "df_ord_edu.head()"
   ]
  },
  {
   "cell_type": "code",
   "execution_count": null,
   "id": "7ca187d8",
   "metadata": {},
   "outputs": [],
   "source": [
    "df_ord_edu[\"score_interaction\"] = df_ord_edu[\"ela_scores(%)\"]*df_ord_edu[\"math_scores(%)\"]*df_ord_edu[\"student_expenditure($)\"]"
   ]
  },
  {
   "cell_type": "code",
   "execution_count": null,
   "id": "ba2fc482",
   "metadata": {},
   "outputs": [],
   "source": [
    "ind_vars = ['bedrooms', 'bathrooms', 'sqft_living', 'sqft_lot', 'floors', 'sqft_above', 'sqft_basement',\n",
    "                'sqft_garage', 'sqft_patio', 'yr_built', 'yr_renovated', 'sale_month', 'sale_year', 'living_interaction',\n",
    "               'waterfront', 'greenbelt', 'nuisance', 'view_ord', 'condition_ord', 'grade_ord', 'heat_source',\n",
    "           'sewer_system', 'City', 'ZIP', 'math_scores(%)', 'ela_scores(%)','graduation_rate(%)',\n",
    "            'student_expenditure($)','kindergarten_readiness(%)', 'score_interaction']\n"
   ]
  },
  {
   "cell_type": "code",
   "execution_count": null,
   "id": "adf22575",
   "metadata": {},
   "outputs": [],
   "source": [
    "from sklearn.preprocessing import OneHotEncoder\n",
    "\n",
    "X = df_ord_edu[ind_vars]\n",
    "y = np.log(df_ord_edu['price'])\n",
    "X_train, X_test, y_train, y_test = train_test_split(\n",
    "     X, y, test_size=0.33, random_state=42)\n",
    "\n",
    "\n",
    "ohe = OneHotEncoder(sparse = False, handle_unknown = 'ignore')\n",
    "\n",
    "train_ohe = ohe.fit_transform(X_train[['heat_source','sewer_system', 'City', 'ZIP']])\n",
    "test_ohe = ohe.transform(X_test[['heat_source','sewer_system', 'City', 'ZIP']])\n",
    "\n",
    "\n",
    "\n",
    "ohe_train = pd.DataFrame(train_ohe, columns = ohe.get_feature_names())\n",
    "ohe_test = pd.DataFrame(test_ohe, columns = ohe.get_feature_names())\n",
    "\n",
    "\n",
    "\n",
    "X_train = pd.concat([X_train.drop(columns =['heat_source','sewer_system', 'City', 'ZIP']).reset_index(), ohe_train],1)\n",
    "X_test = pd.concat([X_test.drop(columns =['heat_source','sewer_system', 'City', 'ZIP']).reset_index(), ohe_test],1)"
   ]
  },
  {
   "cell_type": "code",
   "execution_count": null,
   "id": "96d916e0",
   "metadata": {},
   "outputs": [],
   "source": [
    "lr.fit(X_train,y_train)\n",
    "lr.score(X_test,y_test)\n",
    "# new r-squared with education: .6275"
   ]
  },
  {
   "cell_type": "markdown",
   "id": "2aa749d5",
   "metadata": {},
   "source": [
    "# Model 7: Add Crime Data "
   ]
  },
  {
   "cell_type": "code",
   "execution_count": null,
   "id": "d18cae84",
   "metadata": {},
   "outputs": [],
   "source": [
    "crime_df = pd.read_csv(\"data-pozo/crime.csv\")\n",
    "crime_df1 = crime_df.drop(columns = [\"case_number\", \"nibrs_code\", \"reporting_area\", \"district\", \"precinct\", \"created_at\", \"updated_at\", \"hour_of_day\", \"day_of_week\", \"ID\"])\n",
    "crime_df1[\"Year\"] = crime_df1[\"incident_datetime\"].apply(lambda x: x[6:10])\n",
    "crime_df1[\"city\"] = crime_df1[\"city\"].apply(lambda x: str(x).lower().title())\n",
    "crime_df1.rename(columns = {\"city\": \"City\"}, inplace = True)\n",
    "crime_df1.drop_duplicates(inplace = True)\n",
    "crime_df1 = crime_df1[(crime_df1[\"Year\"] == \"2021\") | (crime_df1[\"Year\"] == \"2022\")]\n",
    "crime_df1 = crime_df1.drop(columns = [\"incident_datetime\"])\n",
    "\n",
    "city_list = [\"Seattle\", \"Renton\", \"Kent\", \"Auburn\", \"Bellevue\", \"Kirkland\", \"Federal Way\", \"Redmond\", \"Sammamish\", \"Maple Valley\", \"Shoreline\", \"Burien\", \"Woodinville\", \"Issaquah\", \"Covington\", \"North Bend\", \"Enumclaw\", \"Des Moines\", \"Mercer Island\", \"Kenmore\", \"Snoqualmie\", \"Black Diamond\", \"Bothell\", \"Seatac\", \"Duvall\", \"Lake Forest Park\", \"Vashon\", \"Newcastle\", \"Tukwila\", \"Carnation\", \"Normandy Park\", \"Fall City\", \"Pacific\", \"Ravensdale\", \"Clyde Hill\", \"Medina\", \"Algona\", \"Milton\", \"Skykomish\", \"Yarrow Point\", \"Beaux Arts\", \"Hunts Point\", \"Baring\", \"Preston\", \"Hobart\", \"Union Hill-Novelty Hill\", \"Snoqualmie Pass\", \"Lakeland North\", \"Fairwood\", \"Cottage Lake\", \"Ames Lake\", \"White Center\", \"Dilworth\"]\n",
    "crime_df1 = crime_df1[crime_df1['City'].isin(city_list)]\n",
    "crime_df1.dropna(subset = [\"nibrs_code_name\"])\n",
    "crime_by_city = crime_df1.groupby([\"City\"]).count()\n",
    "crime_by_city = crime_by_city[[\"nibrs_code_name\"]].reset_index()\n",
    "crime_by_city.rename(columns = {\"nibrs_code_name\": \"crime_number\"}, inplace = True)\n",
    "\n",
    "\n",
    "pop_dict = {\"Seattle\": 762500, \"Renton\": 107500, \"Kent\": 137900, \"Auburn\": 78690, \"Bellevue\": 153900, \"Kirkland\": 93570, \"Federal Way\": 101800, \"Redmond\": 75270, \"Sammamish\": 68150, \"Maple Valley\": 28920, \"Shoreline\": 60320, \"Burien\": 52490, \"Woodinville\": 13450, \"Issaquah\": 40950, \"Covington\": 21200, \"North Bend\": 7915, \"Enumclaw\": 12910, \"Des Moines\": 33160, \"Mercer Island\": 25780, \"Kenmore\": 137900, \"Snoqualmie\": 14490, \"Black Diamond\": 6145, \"Bothell\": 29210, \"Seatac\": 31910, \"Duvall\": 8320, \"Lake Forest Park\": 13620, \"Vashon\": 11055, \"Newcastle\": 13560, \"Tukwila\": 22620, \"Carnation\": 2160, \"Normandy Park\": 6790, \"Fall City\": 2032, \"Pacific\": 7230, \"Ravensdale\": 390, \"Clyde Hill\": 3110, \"Medina\": 2915, \"Algona\": 3300, \"Milton\": 13560, \"Skykomish\": 165, \"Yarrow Point\": 1125, \"Beaux Arts\": 315, \"Hunts Point\": 460, \"Baring\": 267, \"Preston\": 523, \"Hobart\": 6932, \"Union Hill-Novelty Hill\": 22683, \"Snoqualmie Pass\": 390, \"Lakeland North\": 13879, \"Fairwood\": 10541, \"Cottage Lake\": 22965, \"Ames Lake\": 1486, \"White Center\": 16631, \"Dilworth\": 0.0}\n",
    "pop_df = pd.DataFrame(pop_dict, index = [0])\n",
    "pop_df = pop_df.transpose()\n",
    "pop_df = pop_df.sort_index()\n",
    "pop_df = pop_df.reset_index()\n",
    "pop_df.rename(columns = {\"index\": \"City\", 0: \"Population\"}, inplace = True)\n",
    "\n",
    "crime_per_capita = pd.merge(crime_by_city, pop_df, on = \"City\")\n",
    "crime_per_capita[\"crime_per_capita\"] = crime_per_capita[\"crime_number\"]/ crime_per_capita[\"Population\"]\n",
    "\n",
    "df_ord_edu_crime = pd.merge(df_ord_edu, crime_per_capita, on = \"City\")\n",
    "df_ord_edu_crime.head()"
   ]
  },
  {
   "cell_type": "code",
   "execution_count": null,
   "id": "e3679ddd",
   "metadata": {},
   "outputs": [],
   "source": [
    "df_ord_edu_crime.head()"
   ]
  },
  {
   "cell_type": "code",
   "execution_count": null,
   "id": "9bed6803",
   "metadata": {},
   "outputs": [],
   "source": [
    "ind_vars = ['bedrooms', 'bathrooms', 'sqft_living', 'sqft_lot', 'floors', 'sqft_above', 'sqft_basement',\n",
    "                'sqft_garage', 'sqft_patio', 'yr_built', 'yr_renovated', 'sale_month', 'sale_year', 'living_interaction',\n",
    "               'waterfront', 'greenbelt', 'nuisance', 'view_ord', 'condition_ord', 'grade_ord', 'heat_source',\n",
    "           'sewer_system', 'ZIP', 'math_scores(%)', 'ela_scores(%)','graduation_rate(%)',\n",
    "            'student_expenditure($)','kindergarten_readiness(%)', 'score_interaction', 'crime_per_capita']\n"
   ]
  },
  {
   "cell_type": "code",
   "execution_count": null,
   "id": "82d8ffbd",
   "metadata": {},
   "outputs": [],
   "source": [
    "X = df_ord_edu_crime[ind_vars]\n",
    "y = np.log(df_ord_edu_crime['price'])\n",
    "X_train, X_test, y_train, y_test = train_test_split(\n",
    "     X, y, test_size=0.33, random_state=42)\n",
    "\n",
    "\n",
    "ohe = OneHotEncoder(sparse = False, handle_unknown = 'ignore')\n",
    "\n",
    "train_ohe = ohe.fit_transform(X_train[['heat_source','sewer_system', 'ZIP']])\n",
    "test_ohe = ohe.transform(X_test[['heat_source','sewer_system', 'ZIP']])\n",
    "\n",
    "\n",
    "\n",
    "ohe_train = pd.DataFrame(train_ohe, columns = ohe.get_feature_names())\n",
    "ohe_test = pd.DataFrame(test_ohe, columns = ohe.get_feature_names())\n",
    "\n",
    "\n",
    "X_train = pd.concat([X_train.drop(columns =['heat_source','sewer_system', 'ZIP']).reset_index(), ohe_train],1)\n",
    "X_test = pd.concat([X_test.drop(columns =['heat_source','sewer_system', 'ZIP']).reset_index(), ohe_test],1)\n",
    "y_train = y_train.reset_index(drop = True)"
   ]
  },
  {
   "cell_type": "code",
   "execution_count": null,
   "id": "32c5d8ac",
   "metadata": {
    "scrolled": true
   },
   "outputs": [],
   "source": [
    "X_train.head()"
   ]
  },
  {
   "cell_type": "code",
   "execution_count": null,
   "id": "381e8195",
   "metadata": {},
   "outputs": [],
   "source": [
    "model = lr.fit(X_train,y_train)\n",
    "print(lr.score(X_test,y_test))\n",
    "\n",
    "# model_OLS = sm.OLS(endog=y_train, exog=sm.add_constant(X_train)).fit()\n",
    "# print(model_OLS.summary())\n"
   ]
  },
  {
   "cell_type": "code",
   "execution_count": null,
   "id": "8a4c2771",
   "metadata": {},
   "outputs": [],
   "source": []
  },
  {
   "cell_type": "markdown",
   "id": "72aa13b2",
   "metadata": {},
   "source": [
    "# Brendan Example"
   ]
  },
  {
   "cell_type": "code",
   "execution_count": null,
   "id": "7579af05",
   "metadata": {},
   "outputs": [],
   "source": [
    "## brendan \n",
    "df_ord.columns.tolist()"
   ]
  },
  {
   "cell_type": "code",
   "execution_count": null,
   "id": "d4e17527",
   "metadata": {},
   "outputs": [],
   "source": [
    "X_train"
   ]
  },
  {
   "cell_type": "code",
   "execution_count": null,
   "id": "ced6fa31",
   "metadata": {},
   "outputs": [],
   "source": [
    "from sklearn.preprocessing import StandardScaler"
   ]
  },
  {
   "cell_type": "code",
   "execution_count": null,
   "id": "28df9ebf",
   "metadata": {},
   "outputs": [],
   "source": [
    "model_cols = [ \n",
    " 'bedrooms',\n",
    " 'bathrooms',\n",
    " 'sqft_living',\n",
    " 'sqft_lot',\n",
    " 'floors',\n",
    " 'waterfront',\n",
    " 'greenbelt',\n",
    " 'nuisance',\n",
    " 'sqft_above',\n",
    " 'sqft_basement',\n",
    " 'sqft_garage',\n",
    " 'sqft_patio',\n",
    " 'yr_built',\n",
    " 'yr_renovated',\n",
    " 'sale_month',\n",
    " 'sale_year',\n",
    " 'ZIP',\n",
    " 'view_ord',\n",
    " 'condition_ord',\n",
    " 'grade_ord']\n",
    "\n",
    "\n",
    "X = df_ord[model_cols]\n",
    "y = np.log(df_ord['price'])\n",
    "\n",
    "\n",
    "X_train, X_test, y_train, y_test = train_test_split(X,y, test_size = .33, random_state = 42)\n",
    "\n",
    "\n",
    "ohe = OneHotEncoder(sparse = False, handle_unknown = 'ignore')\n",
    "\n",
    "\n",
    "\n",
    "ss = StandardScaler.fit_transform(X_train[model_cols])\n",
    "ss_test = StandardScaler.transform(X_test[model_cols])\n",
    "\n",
    "X_train_ss = pd.DataFrame(ss, columns = X_train.columns)\n",
    "X_test_ss = pd.DataFrame(ss_test, columns = X_train.columns)\n",
    "\n",
    "\n",
    "\n",
    "ohe_train = ohe.fit_transform(X_train[['ZIP']])\n",
    "ohe_test = ohe.transform(X_test[['ZIP']])\n",
    "\n",
    "ohe_train = pd.DataFrame(ohe_train, columns = ohe.get_feature_names())\n",
    "ohe_test = pd.DataFrame(ohe_test, columns = ohe.get_feature_names())\n",
    "\n",
    "X_train = pd.concat([X_train.drop('ZIP',1).reset_index(), ohe_train], 1)\n",
    "X_test = pd.concat([X_test.drop('ZIP',1).reset_index(), ohe_test], 1)\n",
    "\n",
    "\n",
    "lr = LinearRegression()\n",
    "lr.fit(X_train, y_train)\n",
    "print('test:', lr.score(X_test, y_test))\n",
    "print('train:', lr.score(X_train, y_train))\n",
    "\n",
    "\n",
    "lrr = LinearRegression()\n",
    "lrr.fit(X_train_ss, y_train)\n",
    "print('test ss:', lr.score(X_test_ss, y_test))\n",
    "print('train ss:', lr.score(X_train_ss, y_train))\n",
    "\n",
    "\n",
    "\n",
    " #'school_district'"
   ]
  },
  {
   "cell_type": "markdown",
   "id": "d44918d4",
   "metadata": {},
   "source": [
    "# Recommendations"
   ]
  },
  {
   "cell_type": "code",
   "execution_count": null,
   "id": "ac96c72d",
   "metadata": {},
   "outputs": [],
   "source": []
  }
 ],
 "metadata": {
  "kernelspec": {
   "display_name": "Python (learn-env)",
   "language": "python",
   "name": "learn-env"
  },
  "language_info": {
   "codemirror_mode": {
    "name": "ipython",
    "version": 3
   },
   "file_extension": ".py",
   "mimetype": "text/x-python",
   "name": "python",
   "nbconvert_exporter": "python",
   "pygments_lexer": "ipython3",
   "version": "3.8.16"
  }
 },
 "nbformat": 4,
 "nbformat_minor": 5
}
